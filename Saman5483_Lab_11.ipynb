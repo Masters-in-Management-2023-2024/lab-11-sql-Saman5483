{
  "cells": [
    {
      "cell_type": "markdown",
      "metadata": {
        "id": "WMNuUjo9FvnK"
      },
      "source": [
        "# Lab Exercise: SQL Analysis with Polars\n",
        "\n",
        "In this lab, you'll practice SQL queries using Polars' built-in SQL functionality. Complete each exercise by writing the appropriate SQL query."
      ]
    },
    {
      "cell_type": "code",
      "execution_count": 5,
      "metadata": {
        "colab": {
          "base_uri": "https://localhost:8080/"
        },
        "id": "qduQ2Ry9FvnL",
        "outputId": "9cef2016-86e7-4e5b-9a41-6a51569d7c26"
      },
      "outputs": [
        {
          "output_type": "stream",
          "name": "stdout",
          "text": [
            "Setup complete! Tables available:\n",
            "shape: (5, 1)\n",
            "┌──────────┐\n",
            "│ name     │\n",
            "│ ---      │\n",
            "│ str      │\n",
            "╞══════════╡\n",
            "│ airlines │\n",
            "│ airports │\n",
            "│ flights  │\n",
            "│ planes   │\n",
            "│ weather  │\n",
            "└──────────┘\n"
          ]
        },
        {
          "output_type": "stream",
          "name": "stderr",
          "text": [
            "/tmp/ipython-input-534664358.py:15: DeprecationWarning: The argument `eager_execution` for `SQLContext.__init__` is deprecated. It has been renamed to `eager`.\n",
            "  ctx = pl.SQLContext(\n"
          ]
        }
      ],
      "source": [
        "# Setup - Run this cell first\n",
        "import polars as pl\n",
        "\n",
        "# Load data\n",
        "airlines = pl.read_csv('https://raw.githubusercontent.com/philhetzel/opan5510-class11/refs/heads/main/data/nyc_airlines.csv')\n",
        "airports = pl.read_csv('https://raw.githubusercontent.com/philhetzel/opan5510-class11/refs/heads/main/data/nyc_airports.csv')\n",
        "flights = pl.read_csv('https://raw.githubusercontent.com/philhetzel/opan5510-class11/refs/heads/main/data/nyc_flights.csv', null_values = 'NA')\n",
        "planes = pl.read_csv('https://raw.githubusercontent.com/philhetzel/opan5510-class11/refs/heads/main/data/nyc_planes.csv', null_values = 'NA')\n",
        "weather = pl.read_csv('https://raw.githubusercontent.com/philhetzel/opan5510-class11/refs/heads/main/data/nyc_weather.csv', null_values = 'NA', infer_schema_length=1000)\n",
        "\n",
        "flights = flights.with_columns(pl.col(\"time_hour\").str.strptime(pl.Datetime))\n",
        "weather = weather.with_columns(pl.col(\"time_hour\").str.strptime(pl.Datetime))\n",
        "\n",
        "# Create SQL context\n",
        "ctx = pl.SQLContext(\n",
        "    airlines=airlines,\n",
        "    airports=airports,\n",
        "    flights=flights,\n",
        "    planes=planes,\n",
        "    weather=weather,\n",
        "    eager_execution=True\n",
        ")\n",
        "\n",
        "print(\"Setup complete! Tables available:\")\n",
        "print(ctx.execute(\"SHOW TABLES\"))"
      ]
    },
    {
      "cell_type": "markdown",
      "metadata": {
        "id": "XDApvkfDFvnM"
      },
      "source": [
        "## Exercise 1: Basic Queries\n",
        "\n",
        "### 1.1 Find all unique carriers in the airlines table"
      ]
    },
    {
      "cell_type": "code",
      "execution_count": 4,
      "metadata": {
        "colab": {
          "base_uri": "https://localhost:8080/"
        },
        "id": "iuxyUSQ_FvnN",
        "outputId": "fae9df5b-f68f-48eb-b7de-9f2787572a40"
      },
      "outputs": [
        {
          "output_type": "stream",
          "name": "stdout",
          "text": [
            "shape: (16, 1)\n",
            "┌─────────┐\n",
            "│ carrier │\n",
            "│ ---     │\n",
            "│ str     │\n",
            "╞═════════╡\n",
            "│ 9E      │\n",
            "│ AA      │\n",
            "│ AS      │\n",
            "│ B6      │\n",
            "│ DL      │\n",
            "│ …       │\n",
            "│ UA      │\n",
            "│ US      │\n",
            "│ VX      │\n",
            "│ WN      │\n",
            "│ YV      │\n",
            "└─────────┘\n"
          ]
        }
      ],
      "source": [
        "# Write your SQL query here\n",
        "result = ctx.execute(\"\"\"\n",
        "SELECT DISTINCT carrier\n",
        "FROM airlines\n",
        "\"\"\")\n",
        "\n",
        "print(result)"
      ]
    },
    {
      "cell_type": "markdown",
      "metadata": {
        "id": "Edg1uR72FvnN"
      },
      "source": [
        "### 1.2 Find the top 10 destinations by number of flights"
      ]
    },
    {
      "cell_type": "code",
      "execution_count": 8,
      "metadata": {
        "colab": {
          "base_uri": "https://localhost:8080/"
        },
        "id": "Z9S511UHFvnN",
        "outputId": "e99eae7e-337a-4e7b-827d-de0bd1058056"
      },
      "outputs": [
        {
          "output_type": "stream",
          "name": "stdout",
          "text": [
            "shape: (10, 2)\n",
            "┌──────┬──────────────┐\n",
            "│ dest ┆ flight_count │\n",
            "│ ---  ┆ ---          │\n",
            "│ str  ┆ u32          │\n",
            "╞══════╪══════════════╡\n",
            "│ ORD  ┆ 17283        │\n",
            "│ ATL  ┆ 17215        │\n",
            "│ LAX  ┆ 16174        │\n",
            "│ BOS  ┆ 15508        │\n",
            "│ MCO  ┆ 14082        │\n",
            "│ CLT  ┆ 14064        │\n",
            "│ SFO  ┆ 13331        │\n",
            "│ FLL  ┆ 12055        │\n",
            "│ MIA  ┆ 11728        │\n",
            "│ DCA  ┆ 9705         │\n",
            "└──────┴──────────────┘\n"
          ]
        }
      ],
      "source": [
        "# Write your SQL query here\n",
        "result = ctx.execute(\"\"\"\n",
        "SELECT dest, COUNT(*) AS flight_count\n",
        "FROM flights\n",
        "GROUP BY dest\n",
        "ORDER BY flight_count DESC\n",
        "LIMIT 10\n",
        "\"\"\")\n",
        "\n",
        "print(result)"
      ]
    },
    {
      "cell_type": "markdown",
      "metadata": {
        "id": "UmDMVfTFFvnN"
      },
      "source": [
        "### 1.3 Find all flights that departed more than 2 hours late (120 minutes)"
      ]
    },
    {
      "cell_type": "code",
      "execution_count": 11,
      "metadata": {
        "colab": {
          "base_uri": "https://localhost:8080/"
        },
        "id": "eMnrd-uqFvnN",
        "outputId": "f4965547-7478-4117-af1e-5be41bb71b37"
      },
      "outputs": [
        {
          "output_type": "stream",
          "name": "stdout",
          "text": [
            "shape: (9_723, 19)\n",
            "┌──────┬───────┬─────┬──────────┬───┬──────────┬──────┬────────┬─────────────────────────┐\n",
            "│ year ┆ month ┆ day ┆ dep_time ┆ … ┆ distance ┆ hour ┆ minute ┆ time_hour               │\n",
            "│ ---  ┆ ---   ┆ --- ┆ ---      ┆   ┆ ---      ┆ ---  ┆ ---    ┆ ---                     │\n",
            "│ i64  ┆ i64   ┆ i64 ┆ i64      ┆   ┆ i64      ┆ i64  ┆ i64    ┆ datetime[μs, UTC]       │\n",
            "╞══════╪═══════╪═════╪══════════╪═══╪══════════╪══════╪════════╪═════════════════════════╡\n",
            "│ 2013 ┆ 1     ┆ 9   ┆ 641      ┆ … ┆ 4983     ┆ 9    ┆ 0      ┆ 2013-01-09 14:00:00 UTC │\n",
            "│ 2013 ┆ 6     ┆ 15  ┆ 1432     ┆ … ┆ 483      ┆ 19   ┆ 35     ┆ 2013-06-15 23:00:00 UTC │\n",
            "│ 2013 ┆ 1     ┆ 10  ┆ 1121     ┆ … ┆ 719      ┆ 16   ┆ 35     ┆ 2013-01-10 21:00:00 UTC │\n",
            "│ 2013 ┆ 9     ┆ 20  ┆ 1139     ┆ … ┆ 2586     ┆ 18   ┆ 45     ┆ 2013-09-20 22:00:00 UTC │\n",
            "│ 2013 ┆ 7     ┆ 22  ┆ 845      ┆ … ┆ 589      ┆ 16   ┆ 0      ┆ 2013-07-22 20:00:00 UTC │\n",
            "│ …    ┆ …     ┆ …   ┆ …        ┆ … ┆ …        ┆ …    ┆ …      ┆ …                       │\n",
            "│ 2013 ┆ 9     ┆ 2   ┆ 2302     ┆ … ┆ 1598     ┆ 21   ┆ 1      ┆ 2013-09-03 01:00:00 UTC │\n",
            "│ 2013 ┆ 9     ┆ 11  ┆ 1850     ┆ … ┆ 708      ┆ 16   ┆ 49     ┆ 2013-09-11 20:00:00 UTC │\n",
            "│ 2013 ┆ 9     ┆ 12  ┆ 1700     ┆ … ┆ 1096     ┆ 14   ┆ 59     ┆ 2013-09-12 18:00:00 UTC │\n",
            "│ 2013 ┆ 9     ┆ 23  ┆ 2251     ┆ … ┆ 2565     ┆ 20   ┆ 50     ┆ 2013-09-24 00:00:00 UTC │\n",
            "│ 2013 ┆ 9     ┆ 26  ┆ 2330     ┆ … ┆ 284      ┆ 21   ┆ 29     ┆ 2013-09-27 01:00:00 UTC │\n",
            "└──────┴───────┴─────┴──────────┴───┴──────────┴──────┴────────┴─────────────────────────┘\n"
          ]
        }
      ],
      "source": [
        "# Write your SQL query here\n",
        "result = ctx.execute(\"\"\"\n",
        "SELECT *\n",
        "FROM flights\n",
        "WHERE dep_delay > 120\n",
        "ORDER BY dep_delay DESC\n",
        "\"\"\")\n",
        "\n",
        "print(result)"
      ]
    },
    {
      "cell_type": "markdown",
      "metadata": {
        "id": "zw_LXu7WFvnN"
      },
      "source": [
        "## Exercise 2: Aggregation\n",
        "\n",
        "### 2.1 Calculate the average departure delay for each origin airport"
      ]
    },
    {
      "cell_type": "code",
      "execution_count": 26,
      "metadata": {
        "colab": {
          "base_uri": "https://localhost:8080/"
        },
        "id": "BYNl2txIFvnO",
        "outputId": "ef0bfbd7-8a63-4ad9-d4a8-60d02cbf9bf4"
      },
      "outputs": [
        {
          "output_type": "stream",
          "name": "stdout",
          "text": [
            "shape: (3, 2)\n",
            "┌────────┬───────────┐\n",
            "│ origin ┆ dep_delay │\n",
            "│ ---    ┆ ---       │\n",
            "│ str    ┆ f64       │\n",
            "╞════════╪═══════════╡\n",
            "│ LGA    ┆ 10.346876 │\n",
            "│ JFK    ┆ 12.112159 │\n",
            "│ EWR    ┆ 15.107954 │\n",
            "└────────┴───────────┘\n"
          ]
        }
      ],
      "source": [
        "# Write your SQL query here\n",
        "result = ctx.execute(\"\"\"\n",
        "SELECT origin, AVG(dep_delay)\n",
        "FROM flights\n",
        "GROUP BY origin\n",
        "ORDER BY 2 ASC\n",
        "\"\"\")\n",
        "\n",
        "print(result)"
      ]
    },
    {
      "cell_type": "markdown",
      "metadata": {
        "id": "6IflQMg8FvnO"
      },
      "source": [
        "### 2.2 Find the busiest month of the year\n",
        "\n",
        "Count the number of flights per month and find which month has the most flights."
      ]
    },
    {
      "cell_type": "code",
      "execution_count": 46,
      "metadata": {
        "colab": {
          "base_uri": "https://localhost:8080/"
        },
        "id": "v3uzTY52FvnO",
        "outputId": "a9d89f94-d6f5-4fa5-f61d-255863794113"
      },
      "outputs": [
        {
          "output_type": "stream",
          "name": "stdout",
          "text": [
            "shape: (5, 19)\n",
            "┌──────┬───────┬─────┬──────────┬───┬──────────┬──────┬────────┬─────────────────────────┐\n",
            "│ year ┆ month ┆ day ┆ dep_time ┆ … ┆ distance ┆ hour ┆ minute ┆ time_hour               │\n",
            "│ ---  ┆ ---   ┆ --- ┆ ---      ┆   ┆ ---      ┆ ---  ┆ ---    ┆ ---                     │\n",
            "│ i64  ┆ i64   ┆ i64 ┆ i64      ┆   ┆ i64      ┆ i64  ┆ i64    ┆ datetime[μs, UTC]       │\n",
            "╞══════╪═══════╪═════╪══════════╪═══╪══════════╪══════╪════════╪═════════════════════════╡\n",
            "│ 2013 ┆ 1     ┆ 1   ┆ 517      ┆ … ┆ 1400     ┆ 5    ┆ 15     ┆ 2013-01-01 10:00:00 UTC │\n",
            "│ 2013 ┆ 1     ┆ 1   ┆ 533      ┆ … ┆ 1416     ┆ 5    ┆ 29     ┆ 2013-01-01 10:00:00 UTC │\n",
            "│ 2013 ┆ 1     ┆ 1   ┆ 542      ┆ … ┆ 1089     ┆ 5    ┆ 40     ┆ 2013-01-01 10:00:00 UTC │\n",
            "│ 2013 ┆ 1     ┆ 1   ┆ 544      ┆ … ┆ 1576     ┆ 5    ┆ 45     ┆ 2013-01-01 10:00:00 UTC │\n",
            "│ 2013 ┆ 1     ┆ 1   ┆ 554      ┆ … ┆ 762      ┆ 6    ┆ 0      ┆ 2013-01-01 11:00:00 UTC │\n",
            "└──────┴───────┴─────┴──────────┴───┴──────────┴──────┴────────┴─────────────────────────┘\n",
            "shape: (1, 2)\n",
            "┌───────┬──────────────┐\n",
            "│ month ┆ flight_count │\n",
            "│ ---   ┆ ---          │\n",
            "│ i64   ┆ u32          │\n",
            "╞═══════╪══════════════╡\n",
            "│ 7     ┆ 29425        │\n",
            "└───────┴──────────────┘\n"
          ]
        }
      ],
      "source": [
        "# First, let's check what columns are available\n",
        "result = ctx.execute(\"\"\"\n",
        "    SELECT *\n",
        "    FROM flights\n",
        "    LIMIT 5\n",
        "\"\"\")\n",
        "print(result)\n",
        "\n",
        "# Now write your query to find busiest month\n",
        "result = ctx.execute(\"\"\"\n",
        "SELECT month, COUNT(*)flight_count\n",
        "FROM flights\n",
        "GROUP BY month\n",
        "ORDER BY flight_count DESC\n",
        "LIMIT 1\n",
        "\"\"\")\n",
        "\n",
        "print(result)"
      ]
    },
    {
      "cell_type": "markdown",
      "metadata": {
        "id": "DIFWj6D0FvnO"
      },
      "source": [
        "### 2.3 Calculate the on-time performance rate for each carrier\n",
        "\n",
        "Consider a flight on-time if the departure delay is <= 15 minutes."
      ]
    },
    {
      "cell_type": "code",
      "execution_count": 85,
      "metadata": {
        "colab": {
          "base_uri": "https://localhost:8080/"
        },
        "id": "_zak_b2qFvnO",
        "outputId": "23c2fe97-c40d-4a30-a0ab-c9fe56c9ce3c"
      },
      "outputs": [
        {
          "output_type": "stream",
          "name": "stdout",
          "text": [
            "shape: (16, 2)\n",
            "┌─────────┬─────────────────┐\n",
            "│ carrier ┆ on_time_flights │\n",
            "│ ---     ┆ ---             │\n",
            "│ str     ┆ u32             │\n",
            "╞═════════╪═════════════════╡\n",
            "│ OO      ┆ 23              │\n",
            "│ HA      ┆ 318             │\n",
            "│ YV      ┆ 389             │\n",
            "│ F9      ┆ 490             │\n",
            "│ AS      ┆ 618             │\n",
            "│ …       ┆ …               │\n",
            "│ AA      ┆ 26981           │\n",
            "│ EV      ┆ 35712           │\n",
            "│ DL      ┆ 39967           │\n",
            "│ B6      ┆ 41816           │\n",
            "│ UA      ┆ 45784           │\n",
            "└─────────┴─────────────────┘\n"
          ]
        }
      ],
      "source": [
        "# Write your SQL query here\n",
        "result = ctx.execute(\"\"\"\n",
        "SELECT carrier, COUNT(*) AS on_time_flights\n",
        "FROM flights\n",
        "WHERE dep_delay <= 15\n",
        "GROUP BY carrier\n",
        "ORDER BY on_time_flights ASC\n",
        "\"\"\")\n",
        "\n",
        "print(result)"
      ]
    },
    {
      "cell_type": "markdown",
      "metadata": {
        "id": "EN8gTGC-FvnO"
      },
      "source": [
        "## Exercise 3: Joins\n",
        "\n",
        "### 3.1 List all flights with their airline names (not just carrier codes)\n",
        "\n",
        "Show the first 20 flights with carrier code, airline name, flight number, origin, and destination."
      ]
    },
    {
      "cell_type": "code",
      "execution_count": 89,
      "metadata": {
        "colab": {
          "base_uri": "https://localhost:8080/"
        },
        "id": "iInqMvJBFvnO",
        "outputId": "cae0f66a-9cff-4f29-985a-73a7d226f279"
      },
      "outputs": [
        {
          "output_type": "stream",
          "name": "stdout",
          "text": [
            "shape: (20, 5)\n",
            "┌─────────┬────────────────────────┬────────┬────────┬──────┐\n",
            "│ carrier ┆ airline_name           ┆ flight ┆ origin ┆ dest │\n",
            "│ ---     ┆ ---                    ┆ ---    ┆ ---    ┆ ---  │\n",
            "│ str     ┆ str                    ┆ i64    ┆ str    ┆ str  │\n",
            "╞═════════╪════════════════════════╪════════╪════════╪══════╡\n",
            "│ UA      ┆ United Air Lines Inc.  ┆ 1545   ┆ EWR    ┆ IAH  │\n",
            "│ UA      ┆ United Air Lines Inc.  ┆ 1714   ┆ LGA    ┆ IAH  │\n",
            "│ AA      ┆ American Airlines Inc. ┆ 1141   ┆ JFK    ┆ MIA  │\n",
            "│ B6      ┆ JetBlue Airways        ┆ 725    ┆ JFK    ┆ BQN  │\n",
            "│ DL      ┆ Delta Air Lines Inc.   ┆ 461    ┆ LGA    ┆ ATL  │\n",
            "│ …       ┆ …                      ┆ …      ┆ …      ┆ …    │\n",
            "│ B6      ┆ JetBlue Airways        ┆ 1806   ┆ JFK    ┆ BOS  │\n",
            "│ UA      ┆ United Air Lines Inc.  ┆ 1187   ┆ EWR    ┆ LAS  │\n",
            "│ B6      ┆ JetBlue Airways        ┆ 371    ┆ LGA    ┆ FLL  │\n",
            "│ MQ      ┆ Envoy Air              ┆ 4650   ┆ LGA    ┆ ATL  │\n",
            "│ B6      ┆ JetBlue Airways        ┆ 343    ┆ EWR    ┆ PBI  │\n",
            "└─────────┴────────────────────────┴────────┴────────┴──────┘\n"
          ]
        }
      ],
      "source": [
        "# Write your SQL query here\n",
        "result = ctx.execute(\"\"\"\n",
        "SELECT f.carrier, a.name AS airline_name, f.flight, f.origin, f.dest\n",
        "FROM flights AS f\n",
        "JOIN airlines AS a ON f.carrier = a.carrier\n",
        "ORDER BY f.year, f.month, f.day, f.dep_time\n",
        "LIMIT 20\n",
        "\"\"\")\n",
        "\n",
        "print(result)"
      ]
    },
    {
      "cell_type": "markdown",
      "metadata": {
        "id": "2KjOL7EbFvnO"
      },
      "source": [
        "### 3.2 Find the average age of planes for each carrier\n",
        "\n",
        "Hint: The planes table has a `year` column for manufacture year. Calculate age based on 2013."
      ]
    },
    {
      "cell_type": "code",
      "execution_count": 94,
      "metadata": {
        "colab": {
          "base_uri": "https://localhost:8080/"
        },
        "id": "eBuNugG7FvnP",
        "outputId": "d229c3ef-3237-4a9f-9cc0-d04adf986386"
      },
      "outputs": [
        {
          "output_type": "stream",
          "name": "stdout",
          "text": [
            "shape: (16, 2)\n",
            "┌─────────┬───────────────┐\n",
            "│ carrier ┆ avg_plane_age │\n",
            "│ ---     ┆ ---           │\n",
            "│ str     ┆ f64           │\n",
            "╞═════════╪═══════════════╡\n",
            "│ MQ      ┆ 35.319        │\n",
            "│ AA      ┆ 25.869426     │\n",
            "│ DL      ┆ 16.372169     │\n",
            "│ UA      ┆ 13.207691     │\n",
            "│ FL      ┆ 11.385829     │\n",
            "│ …       ┆ …             │\n",
            "│ B6      ┆ 6.686702      │\n",
            "│ F9      ┆ 4.87874       │\n",
            "│ VX      ┆ 4.473643      │\n",
            "│ AS      ┆ 3.33662       │\n",
            "│ HA      ┆ 1.548387      │\n",
            "└─────────┴───────────────┘\n"
          ]
        }
      ],
      "source": [
        "# Write your SQL query here\n",
        "result = ctx.execute(\"\"\"\n",
        "SELECT flights.carrier, AVG(2013 - planes.year) AS avg_plane_age\n",
        "FROM flights\n",
        "JOIN planes ON flights.tailnum = planes.tailnum\n",
        "WHERE planes.year IS NOT NULL\n",
        "GROUP BY flights.carrier\n",
        "ORDER BY avg_plane_age DESC\n",
        "\"\"\")\n",
        "\n",
        "print(result)"
      ]
    },
    {
      "cell_type": "markdown",
      "metadata": {
        "id": "MILTBtbkFvnP"
      },
      "source": [
        "### 3.3 Find flights that experienced both departure delays and bad weather\n",
        "\n",
        "Join flights with weather data and find flights where departure delay > 30 minutes and either wind_speed > 20 or precip > 0.1"
      ]
    },
    {
      "cell_type": "code",
      "execution_count": 115,
      "metadata": {
        "colab": {
          "base_uri": "https://localhost:8080/"
        },
        "id": "gJyT7KldFvnP",
        "outputId": "1c36fb61-e6b7-4f2b-9d5a-e8cddb3b9f3e"
      },
      "outputs": [
        {
          "output_type": "stream",
          "name": "stdout",
          "text": [
            "shape: (5, 15)\n",
            "┌────────┬──────┬───────┬─────┬───┬────────┬──────────┬───────┬─────────────────────────┐\n",
            "│ origin ┆ year ┆ month ┆ day ┆ … ┆ precip ┆ pressure ┆ visib ┆ time_hour               │\n",
            "│ ---    ┆ ---  ┆ ---   ┆ --- ┆   ┆ ---    ┆ ---      ┆ ---   ┆ ---                     │\n",
            "│ str    ┆ i64  ┆ i64   ┆ i64 ┆   ┆ f64    ┆ f64      ┆ f64   ┆ datetime[μs, UTC]       │\n",
            "╞════════╪══════╪═══════╪═════╪═══╪════════╪══════════╪═══════╪═════════════════════════╡\n",
            "│ EWR    ┆ 2013 ┆ 1     ┆ 1   ┆ … ┆ 0.0    ┆ 1012.0   ┆ 10.0  ┆ 2013-01-01 06:00:00 UTC │\n",
            "│ EWR    ┆ 2013 ┆ 1     ┆ 1   ┆ … ┆ 0.0    ┆ 1012.3   ┆ 10.0  ┆ 2013-01-01 07:00:00 UTC │\n",
            "│ EWR    ┆ 2013 ┆ 1     ┆ 1   ┆ … ┆ 0.0    ┆ 1012.5   ┆ 10.0  ┆ 2013-01-01 08:00:00 UTC │\n",
            "│ EWR    ┆ 2013 ┆ 1     ┆ 1   ┆ … ┆ 0.0    ┆ 1012.2   ┆ 10.0  ┆ 2013-01-01 09:00:00 UTC │\n",
            "│ EWR    ┆ 2013 ┆ 1     ┆ 1   ┆ … ┆ 0.0    ┆ 1011.9   ┆ 10.0  ┆ 2013-01-01 10:00:00 UTC │\n",
            "└────────┴──────┴───────┴─────┴───┴────────┴──────────┴───────┴─────────────────────────┘\n",
            "shape: (4_938, 34)\n",
            "┌──────┬───────┬─────┬──────────┬───┬────────┬──────────┬───────┬─────────────────────────┐\n",
            "│ year ┆ month ┆ day ┆ dep_time ┆ … ┆ precip ┆ pressure ┆ visib ┆ time_hour:w             │\n",
            "│ ---  ┆ ---   ┆ --- ┆ ---      ┆   ┆ ---    ┆ ---      ┆ ---   ┆ ---                     │\n",
            "│ i64  ┆ i64   ┆ i64 ┆ i64      ┆   ┆ f64    ┆ f64      ┆ f64   ┆ datetime[μs, UTC]       │\n",
            "╞══════╪═══════╪═════╪══════════╪═══╪════════╪══════════╪═══════╪═════════════════════════╡\n",
            "│ 2013 ┆ 4     ┆ 10  ┆ 1100     ┆ … ┆ 0.11   ┆ null     ┆ 10.0  ┆ 2013-04-10 23:00:00 UTC │\n",
            "│ 2013 ┆ 12    ┆ 14  ┆ 830      ┆ … ┆ 0.01   ┆ null     ┆ 1.5   ┆ 2013-12-14 23:00:00 UTC │\n",
            "│ 2013 ┆ 4     ┆ 19  ┆ 617      ┆ … ┆ 0.0    ┆ 1007.0   ┆ 0.12  ┆ 2013-04-19 21:00:00 UTC │\n",
            "│ 2013 ┆ 4     ┆ 19  ┆ 606      ┆ … ┆ 0.0    ┆ 1007.0   ┆ 0.12  ┆ 2013-04-19 21:00:00 UTC │\n",
            "│ 2013 ┆ 4     ┆ 10  ┆ 604      ┆ … ┆ 0.14   ┆ null     ┆ 7.0   ┆ 2013-04-10 23:00:00 UTC │\n",
            "│ …    ┆ …     ┆ …   ┆ …        ┆ … ┆ …      ┆ …        ┆ …     ┆ …                       │\n",
            "│ 2013 ┆ 8     ┆ 1   ┆ 2031     ┆ … ┆ 0.2    ┆ null     ┆ 4.0   ┆ 2013-08-02 00:00:00 UTC │\n",
            "│ 2013 ┆ 8     ┆ 7   ┆ 1831     ┆ … ┆ 0.01   ┆ null     ┆ 10.0  ┆ 2013-08-07 22:00:00 UTC │\n",
            "│ 2013 ┆ 8     ┆ 13  ┆ 1036     ┆ … ┆ 0.17   ┆ null     ┆ 5.0   ┆ 2013-08-13 14:00:00 UTC │\n",
            "│ 2013 ┆ 8     ┆ 13  ┆ 1216     ┆ … ┆ 0.19   ┆ null     ┆ 5.0   ┆ 2013-08-13 15:00:00 UTC │\n",
            "│ 2013 ┆ 9     ┆ 2   ┆ 1356     ┆ … ┆ 0.82   ┆ null     ┆ 5.0   ┆ 2013-09-02 17:00:00 UTC │\n",
            "└──────┴───────┴─────┴──────────┴───┴────────┴──────────┴───────┴─────────────────────────┘\n"
          ]
        }
      ],
      "source": [
        "# First, explore the weather table structure\n",
        "result = ctx.execute(\"\"\"\n",
        "    SELECT *\n",
        "    FROM weather\n",
        "    LIMIT 5\n",
        "\"\"\")\n",
        "print(result)\n",
        "\n",
        "# Now write your join query\n",
        "result = ctx.execute(\"\"\"\n",
        "SELECT *\n",
        "FROM flights AS f\n",
        "JOIN weather AS w ON f.origin = w.origin\n",
        " AND f.time_hour = w.time_hour\n",
        "WHERE f.dep_delay > 30\n",
        "  AND (w.wind_speed > 20 OR w.precip > 0.1)\n",
        "ORDER BY f.dep_delay DESC\n",
        "\"\"\")\n",
        "\n",
        "print(result)"
      ]
    },
    {
      "cell_type": "markdown",
      "metadata": {
        "id": "H2iOaACVFvnP"
      },
      "source": [
        "## Exercise 4: Advanced Queries\n",
        "\n",
        "### 4.1 Find the most popular aircraft types (by number of flights)\n",
        "\n",
        "Join flights with planes to get manufacturer and model information. Show top 10."
      ]
    },
    {
      "cell_type": "code",
      "execution_count": 116,
      "metadata": {
        "colab": {
          "base_uri": "https://localhost:8080/"
        },
        "id": "DFc3kbYAFvnP",
        "outputId": "0ccb6b7d-e5e3-4c98-b357-67861f8a54fc"
      },
      "outputs": [
        {
          "output_type": "stream",
          "name": "stdout",
          "text": [
            "shape: (10, 3)\n",
            "┌───────────────────────────────┬─────────────────┬──────────────┐\n",
            "│ manufacturer                  ┆ model           ┆ flight_count │\n",
            "│ ---                           ┆ ---             ┆ ---          │\n",
            "│ str                           ┆ str             ┆ u32          │\n",
            "╞═══════════════════════════════╪═════════════════╪══════════════╡\n",
            "│ AIRBUS                        ┆ A320-232        ┆ 31278        │\n",
            "│ EMBRAER                       ┆ EMB-145LR       ┆ 28027        │\n",
            "│ EMBRAER                       ┆ ERJ 190-100 IGW ┆ 23716        │\n",
            "│ AIRBUS INDUSTRIE              ┆ A320-232        ┆ 14553        │\n",
            "│ EMBRAER                       ┆ EMB-145XR       ┆ 14051        │\n",
            "│ BOEING                        ┆ 737-824         ┆ 13809        │\n",
            "│ BOMBARDIER INC                ┆ CL-600-2D24     ┆ 11807        │\n",
            "│ BOEING                        ┆ 737-7H4         ┆ 10389        │\n",
            "│ BOEING                        ┆ 757-222         ┆ 9150         │\n",
            "│ MCDONNELL DOUGLAS AIRCRAFT CO ┆ MD-88           ┆ 8932         │\n",
            "└───────────────────────────────┴─────────────────┴──────────────┘\n"
          ]
        }
      ],
      "source": [
        "# Write your SQL query here\n",
        "result = ctx.execute(\"\"\"\n",
        "SELECT p.manufacturer, p.model, COUNT(*) AS flight_count\n",
        "FROM flights AS f\n",
        "JOIN planes  AS p ON f.tailnum = p.tailnum\n",
        "GROUP BY p.manufacturer, p.model\n",
        "ORDER BY flight_count DESC\n",
        "LIMIT 10\n",
        "\"\"\")\n",
        "\n",
        "print(result)"
      ]
    },
    {
      "cell_type": "markdown",
      "metadata": {
        "id": "WX5XIVAzFvnP"
      },
      "source": [
        "### 4.2 Analyze route performance\n",
        "\n",
        "Find the top 10 routes (origin-destination pairs) with:\n",
        "- Total number of flights\n",
        "- Average departure delay\n",
        "- Percentage of flights delayed more than 30 minutes\n",
        "\n",
        "Include airport names, not just codes."
      ]
    },
    {
      "cell_type": "code",
      "execution_count": 117,
      "metadata": {
        "colab": {
          "base_uri": "https://localhost:8080/"
        },
        "id": "3xc62BIZFvnP",
        "outputId": "78cf29e8-15fb-41a4-c77b-55fbc1cb5320"
      },
      "outputs": [
        {
          "output_type": "stream",
          "name": "stdout",
          "text": [
            "shape: (10, 7)\n",
            "┌────────┬────────────────┬──────┬────────────────┬───────────────┬───────────────┬────────────────┐\n",
            "│ origin ┆ origin_name    ┆ dest ┆ dest_name      ┆ total_flights ┆ avg_dep_delay ┆ pct_delayed_ov │\n",
            "│ ---    ┆ ---            ┆ ---  ┆ ---            ┆ ---           ┆ ---           ┆ er_30          │\n",
            "│ str    ┆ str            ┆ str  ┆ str            ┆ u32           ┆ f64           ┆ ---            │\n",
            "│        ┆                ┆      ┆                ┆               ┆               ┆ f64            │\n",
            "╞════════╪════════════════╪══════╪════════════════╪═══════════════╪═══════════════╪════════════════╡\n",
            "│ JFK    ┆ John F Kennedy ┆ LAX  ┆ Los Angeles    ┆ 11196         ┆ 8.522508      ┆ 9.88746        │\n",
            "│        ┆ Intl           ┆      ┆ Intl           ┆               ┆               ┆                │\n",
            "│ LGA    ┆ La Guardia     ┆ ATL  ┆ Hartsfield     ┆ 10082         ┆ 11.448621     ┆ 12.467764      │\n",
            "│        ┆                ┆      ┆ Jackson        ┆               ┆               ┆                │\n",
            "│        ┆                ┆      ┆ Atlanta Int…   ┆               ┆               ┆                │\n",
            "│ LGA    ┆ La Guardia     ┆ ORD  ┆ Chicago Ohare  ┆ 8548          ┆ 10.740758     ┆ 13.827796      │\n",
            "│        ┆                ┆      ┆ Intl           ┆               ┆               ┆                │\n",
            "│ JFK    ┆ John F Kennedy ┆ SFO  ┆ San Francisco  ┆ 8138          ┆ 11.952691     ┆ 12.214303      │\n",
            "│        ┆ Intl           ┆      ┆ Intl           ┆               ┆               ┆                │\n",
            "│ LGA    ┆ La Guardia     ┆ CLT  ┆ Charlotte      ┆ 5969          ┆ 8.965321      ┆ 12.347127      │\n",
            "│        ┆                ┆      ┆ Douglas Intl   ┆               ┆               ┆                │\n",
            "│ EWR    ┆ Newark Liberty ┆ ORD  ┆ Chicago Ohare  ┆ 5851          ┆ 14.644163     ┆ 16.680909      │\n",
            "│        ┆ Intl           ┆      ┆ Intl           ┆               ┆               ┆                │\n",
            "│ JFK    ┆ John F Kennedy ┆ BOS  ┆ General Edward ┆ 5786          ┆ 11.694953     ┆ 14.033875      │\n",
            "│        ┆ Intl           ┆      ┆ Lawrence Logan ┆               ┆               ┆                │\n",
            "│        ┆                ┆      ┆ …              ┆               ┆               ┆                │\n",
            "│ LGA    ┆ La Guardia     ┆ MIA  ┆ Miami Intl     ┆ 5725          ┆ 7.361747      ┆ 9.554585       │\n",
            "│ JFK    ┆ John F Kennedy ┆ MCO  ┆ Orlando Intl   ┆ 5434          ┆ 10.601583     ┆ 12.789842      │\n",
            "│        ┆ Intl           ┆      ┆                ┆               ┆               ┆                │\n",
            "│ EWR    ┆ Newark Liberty ┆ BOS  ┆ General Edward ┆ 5251          ┆ 12.54561      ┆ 15.120929      │\n",
            "│        ┆ Intl           ┆      ┆ Lawrence Logan ┆               ┆               ┆                │\n",
            "│        ┆                ┆      ┆ …              ┆               ┆               ┆                │\n",
            "└────────┴────────────────┴──────┴────────────────┴───────────────┴───────────────┴────────────────┘\n"
          ]
        }
      ],
      "source": [
        "# Write your SQL query here\n",
        "result = ctx.execute(\"\"\"\n",
        "WITH FlightDetails AS (\n",
        "    SELECT\n",
        "        f.origin,\n",
        "        ao.name AS origin_name,\n",
        "        f.dest,\n",
        "        ad.name AS dest_name,\n",
        "        f.dep_delay\n",
        "    FROM flights AS f\n",
        "    JOIN airports AS ao ON f.origin = ao.faa\n",
        "    JOIN airports AS ad ON f.dest = ad.faa\n",
        "    WHERE f.dep_delay IS NOT NULL\n",
        ")\n",
        "SELECT\n",
        "    origin,\n",
        "    origin_name,\n",
        "    dest,\n",
        "    dest_name,\n",
        "    COUNT(*) AS total_flights,\n",
        "    AVG(dep_delay) AS avg_dep_delay,\n",
        "    CAST(SUM(CASE WHEN dep_delay > 30 THEN 1 ELSE 0 END) AS DOUBLE) * 100.0 / COUNT(*) AS pct_delayed_over_30\n",
        "FROM FlightDetails\n",
        "GROUP BY origin, origin_name, dest, dest_name\n",
        "ORDER BY total_flights DESC\n",
        "LIMIT 10\n",
        "\"\"\")\n",
        "\n",
        "print(result)"
      ]
    },
    {
      "cell_type": "markdown",
      "metadata": {
        "id": "rjiUvh5_FvnQ"
      },
      "source": [
        "## Bonus: Compare with Polars\n",
        "\n",
        "### Choose one of the queries above and implement it using Polars\n",
        "\n",
        "This will help you understand the relationship between SQL and Polars operations."
      ]
    },
    {
      "cell_type": "code",
      "execution_count": 118,
      "metadata": {
        "colab": {
          "base_uri": "https://localhost:8080/"
        },
        "id": "DN_stFIqFvnQ",
        "outputId": "8a4352ab-6d24-4cd6-df4a-f96ca371bc09"
      },
      "outputs": [
        {
          "output_type": "stream",
          "name": "stdout",
          "text": [
            "SQL Result:\n",
            "shape: (3, 2)\n",
            "┌────────┬───────────┐\n",
            "│ origin ┆ avg_delay │\n",
            "│ ---    ┆ ---       │\n",
            "│ str    ┆ f64       │\n",
            "╞════════╪═══════════╡\n",
            "│ EWR    ┆ 15.107954 │\n",
            "│ JFK    ┆ 12.112159 │\n",
            "│ LGA    ┆ 10.346876 │\n",
            "└────────┴───────────┘\n",
            "\n",
            "Polars Result:\n",
            "shape: (3, 2)\n",
            "┌────────┬───────────┐\n",
            "│ origin ┆ avg_delay │\n",
            "│ ---    ┆ ---       │\n",
            "│ str    ┆ f64       │\n",
            "╞════════╪═══════════╡\n",
            "│ EWR    ┆ 15.107954 │\n",
            "│ JFK    ┆ 12.112159 │\n",
            "│ LGA    ┆ 10.346876 │\n",
            "└────────┴───────────┘\n",
            "shape: (9_723, 19)\n",
            "┌──────┬───────┬─────┬──────────┬───┬──────────┬──────┬────────┬─────────────────────────┐\n",
            "│ year ┆ month ┆ day ┆ dep_time ┆ … ┆ distance ┆ hour ┆ minute ┆ time_hour               │\n",
            "│ ---  ┆ ---   ┆ --- ┆ ---      ┆   ┆ ---      ┆ ---  ┆ ---    ┆ ---                     │\n",
            "│ i64  ┆ i64   ┆ i64 ┆ i64      ┆   ┆ i64      ┆ i64  ┆ i64    ┆ datetime[μs, UTC]       │\n",
            "╞══════╪═══════╪═════╪══════════╪═══╪══════════╪══════╪════════╪═════════════════════════╡\n",
            "│ 2013 ┆ 1     ┆ 9   ┆ 641      ┆ … ┆ 4983     ┆ 9    ┆ 0      ┆ 2013-01-09 14:00:00 UTC │\n",
            "│ 2013 ┆ 6     ┆ 15  ┆ 1432     ┆ … ┆ 483      ┆ 19   ┆ 35     ┆ 2013-06-15 23:00:00 UTC │\n",
            "│ 2013 ┆ 1     ┆ 10  ┆ 1121     ┆ … ┆ 719      ┆ 16   ┆ 35     ┆ 2013-01-10 21:00:00 UTC │\n",
            "│ 2013 ┆ 9     ┆ 20  ┆ 1139     ┆ … ┆ 2586     ┆ 18   ┆ 45     ┆ 2013-09-20 22:00:00 UTC │\n",
            "│ 2013 ┆ 7     ┆ 22  ┆ 845      ┆ … ┆ 589      ┆ 16   ┆ 0      ┆ 2013-07-22 20:00:00 UTC │\n",
            "│ …    ┆ …     ┆ …   ┆ …        ┆ … ┆ …        ┆ …    ┆ …      ┆ …                       │\n",
            "│ 2013 ┆ 9     ┆ 2   ┆ 2302     ┆ … ┆ 1598     ┆ 21   ┆ 1      ┆ 2013-09-03 01:00:00 UTC │\n",
            "│ 2013 ┆ 9     ┆ 11  ┆ 1850     ┆ … ┆ 708      ┆ 16   ┆ 49     ┆ 2013-09-11 20:00:00 UTC │\n",
            "│ 2013 ┆ 9     ┆ 12  ┆ 1700     ┆ … ┆ 1096     ┆ 14   ┆ 59     ┆ 2013-09-12 18:00:00 UTC │\n",
            "│ 2013 ┆ 9     ┆ 23  ┆ 2251     ┆ … ┆ 2565     ┆ 20   ┆ 50     ┆ 2013-09-24 00:00:00 UTC │\n",
            "│ 2013 ┆ 9     ┆ 26  ┆ 2330     ┆ … ┆ 284      ┆ 21   ┆ 29     ┆ 2013-09-27 01:00:00 UTC │\n",
            "└──────┴───────┴─────┴──────────┴───┴──────────┴──────┴────────┴─────────────────────────┘\n"
          ]
        }
      ],
      "source": [
        "# Example: Let's implement Exercise 2.1 (average delay by origin) in Polars\n",
        "\n",
        "# SQL version (for reference)\n",
        "sql_result = ctx.execute(\"\"\"\n",
        "    SELECT\n",
        "        origin,\n",
        "        AVG(dep_delay) as avg_delay\n",
        "    FROM flights\n",
        "    WHERE dep_delay IS NOT NULL\n",
        "    GROUP BY origin\n",
        "    ORDER BY avg_delay DESC\n",
        "\"\"\")\n",
        "\n",
        "# Polars version\n",
        "polars_result = (\n",
        "    flights\n",
        "    .filter(pl.col('dep_delay').is_not_null())\n",
        "    .group_by('origin')\n",
        "    .agg(pl.col('dep_delay').mean().alias('avg_delay'))\n",
        "    .sort('avg_delay', descending=True)\n",
        ")\n",
        "\n",
        "print(\"SQL Result:\")\n",
        "print(sql_result)\n",
        "print(\"\\nPolars Result:\")\n",
        "print(polars_result)\n",
        "\n",
        "# Now implement one of your own queries in Polars below:\n",
        "# Your Polars code here\n",
        "\n",
        "polars_version = (\n",
        "    flights.filter(pl.col('dep_delay') > 120)\n",
        "    .sort('dep_delay', descending=True)\n",
        ")\n",
        "\n",
        "print(polars_version)\n"
      ]
    }
  ],
  "metadata": {
    "kernelspec": {
      "display_name": "Python 3",
      "language": "python",
      "name": "python3"
    },
    "language_info": {
      "codemirror_mode": {
        "name": "ipython",
        "version": 3
      },
      "file_extension": ".py",
      "mimetype": "text/x-python",
      "name": "python",
      "nbconvert_exporter": "python",
      "pygments_lexer": "ipython3",
      "version": "3.8.0"
    },
    "colab": {
      "provenance": []
    }
  },
  "nbformat": 4,
  "nbformat_minor": 0
}